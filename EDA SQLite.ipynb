{
 "cells": [
  {
   "cell_type": "markdown",
   "id": "7cd1857f-f230-4bd3-9825-8b6560ae935d",
   "metadata": {},
   "source": [
    "<h1 align=center><font size = 5>Assignment: SQL Notebook for Peer Assignment</font></h1>\n",
    "\n",
    "## Introduction\n",
    "Using this Python notebook you will:\n",
    "\n",
    "1.  Understand the Spacex DataSet\n",
    "2.  Load the dataset  into the corresponding table in a Db2 database\n",
    "3.  Execute SQL queries to answer assignment questions"
   ]
  },
  {
   "cell_type": "code",
   "execution_count": 1,
   "id": "403bd745-ca9e-44ee-829e-827402a3cb3b",
   "metadata": {
    "scrolled": true
   },
   "outputs": [
    {
     "name": "stdout",
     "output_type": "stream",
     "text": [
      "Collecting sqlalchemy==1.3.9\n",
      "  Using cached SQLAlchemy-1.3.9-cp311-cp311-win_amd64.whl\n",
      "Installing collected packages: sqlalchemy\n",
      "  Attempting uninstall: sqlalchemy\n",
      "    Found existing installation: SQLAlchemy 2.0.30\n",
      "    Uninstalling SQLAlchemy-2.0.30:\n",
      "      Successfully uninstalled SQLAlchemy-2.0.30\n",
      "Successfully installed sqlalchemy-1.3.9\n"
     ]
    },
    {
     "name": "stderr",
     "output_type": "stream",
     "text": [
      "ERROR: pip's dependency resolver does not currently take into account all the packages that are installed. This behaviour is the source of the following dependency conflicts.\n",
      "ipython-sql 0.5.0 requires sqlalchemy>=2.0, but you have sqlalchemy 1.3.9 which is incompatible.\n"
     ]
    },
    {
     "name": "stdout",
     "output_type": "stream",
     "text": [
      "Requirement already satisfied: ipython-sql in c:\\users\\rival\\anaconda3\\lib\\site-packages (0.5.0)\n",
      "Requirement already satisfied: prettytable in c:\\users\\rival\\anaconda3\\lib\\site-packages (from ipython-sql) (3.10.0)\n",
      "Requirement already satisfied: ipython in c:\\users\\rival\\anaconda3\\lib\\site-packages (from ipython-sql) (8.20.0)\n",
      "Collecting sqlalchemy>=2.0 (from ipython-sql)\n",
      "  Using cached SQLAlchemy-2.0.30-cp311-cp311-win_amd64.whl.metadata (9.8 kB)\n",
      "Requirement already satisfied: sqlparse in c:\\users\\rival\\anaconda3\\lib\\site-packages (from ipython-sql) (0.5.0)\n",
      "Requirement already satisfied: six in c:\\users\\rival\\anaconda3\\lib\\site-packages (from ipython-sql) (1.16.0)\n",
      "Requirement already satisfied: ipython-genutils in c:\\users\\rival\\anaconda3\\lib\\site-packages (from ipython-sql) (0.2.0)\n",
      "Requirement already satisfied: typing-extensions>=4.6.0 in c:\\users\\rival\\anaconda3\\lib\\site-packages (from sqlalchemy>=2.0->ipython-sql) (4.9.0)\n",
      "Requirement already satisfied: greenlet!=0.4.17 in c:\\users\\rival\\anaconda3\\lib\\site-packages (from sqlalchemy>=2.0->ipython-sql) (3.0.1)\n",
      "Requirement already satisfied: decorator in c:\\users\\rival\\anaconda3\\lib\\site-packages (from ipython->ipython-sql) (5.1.1)\n",
      "Requirement already satisfied: jedi>=0.16 in c:\\users\\rival\\anaconda3\\lib\\site-packages (from ipython->ipython-sql) (0.18.1)\n",
      "Requirement already satisfied: matplotlib-inline in c:\\users\\rival\\anaconda3\\lib\\site-packages (from ipython->ipython-sql) (0.1.6)\n",
      "Requirement already satisfied: prompt-toolkit<3.1.0,>=3.0.41 in c:\\users\\rival\\anaconda3\\lib\\site-packages (from ipython->ipython-sql) (3.0.43)\n",
      "Requirement already satisfied: pygments>=2.4.0 in c:\\users\\rival\\anaconda3\\lib\\site-packages (from ipython->ipython-sql) (2.15.1)\n",
      "Requirement already satisfied: stack-data in c:\\users\\rival\\anaconda3\\lib\\site-packages (from ipython->ipython-sql) (0.2.0)\n",
      "Requirement already satisfied: traitlets>=5 in c:\\users\\rival\\anaconda3\\lib\\site-packages (from ipython->ipython-sql) (5.7.1)\n",
      "Requirement already satisfied: colorama in c:\\users\\rival\\anaconda3\\lib\\site-packages (from ipython->ipython-sql) (0.4.6)\n",
      "Requirement already satisfied: wcwidth in c:\\users\\rival\\anaconda3\\lib\\site-packages (from prettytable->ipython-sql) (0.2.5)\n",
      "Requirement already satisfied: parso<0.9.0,>=0.8.0 in c:\\users\\rival\\anaconda3\\lib\\site-packages (from jedi>=0.16->ipython->ipython-sql) (0.8.3)\n",
      "Requirement already satisfied: executing in c:\\users\\rival\\anaconda3\\lib\\site-packages (from stack-data->ipython->ipython-sql) (0.8.3)\n",
      "Requirement already satisfied: asttokens in c:\\users\\rival\\anaconda3\\lib\\site-packages (from stack-data->ipython->ipython-sql) (2.0.5)\n",
      "Requirement already satisfied: pure-eval in c:\\users\\rival\\anaconda3\\lib\\site-packages (from stack-data->ipython->ipython-sql) (0.2.2)\n",
      "Using cached SQLAlchemy-2.0.30-cp311-cp311-win_amd64.whl (2.1 MB)\n",
      "Installing collected packages: sqlalchemy\n",
      "  Attempting uninstall: sqlalchemy\n",
      "    Found existing installation: SQLAlchemy 1.3.9\n",
      "    Uninstalling SQLAlchemy-1.3.9:\n",
      "      Successfully uninstalled SQLAlchemy-1.3.9\n",
      "Successfully installed sqlalchemy-2.0.30\n"
     ]
    }
   ],
   "source": [
    "# Instalando bibliotecas\n",
    "\n",
    "!pip install sqlalchemy==1.3.9\n",
    "!pip install ipython-sql"
   ]
  },
  {
   "cell_type": "code",
   "execution_count": 2,
   "id": "1f731518-6f7e-47ab-89e6-077dd4fdc390",
   "metadata": {},
   "outputs": [],
   "source": [
    "%load_ext sql"
   ]
  },
  {
   "cell_type": "code",
   "execution_count": 3,
   "id": "4847accc-b68d-4880-ac6b-6b4d8337b302",
   "metadata": {},
   "outputs": [],
   "source": [
    "# Carregando bibliotecas\n",
    "\n",
    "import csv, sqlite3\n",
    "import pandas as pd"
   ]
  },
  {
   "cell_type": "code",
   "execution_count": 4,
   "id": "b7c2c9c7-95b5-44d7-a29e-4bd47ace9d4c",
   "metadata": {},
   "outputs": [],
   "source": [
    "# Criando conexão com o banco de dados\n",
    "\n",
    "con = sqlite3.connect(\"my_data1.db\")\n",
    "cur = con.cursor()"
   ]
  },
  {
   "cell_type": "code",
   "execution_count": 5,
   "id": "001d3616-ea0f-4a24-bcc5-5e25d1ffb588",
   "metadata": {},
   "outputs": [],
   "source": [
    "%sql sqlite:///my_data1.db"
   ]
  },
  {
   "cell_type": "code",
   "execution_count": 6,
   "id": "3b9c6aa6-f5be-4d60-8779-61366288c154",
   "metadata": {},
   "outputs": [
    {
     "data": {
      "text/plain": [
       "101"
      ]
     },
     "execution_count": 6,
     "metadata": {},
     "output_type": "execute_result"
    }
   ],
   "source": [
    "# Carregando base de dados e tabela SQL\n",
    "\n",
    "df = pd.read_csv(\"https://cf-courses-data.s3.us.cloud-object-storage.appdomain.cloud/IBM-DS0321EN-SkillsNetwork/labs/module_2/data/Spacex.csv\")\n",
    "df.to_sql(\"SPACEXTBL\", con, if_exists='replace', index=False,method=\"multi\")"
   ]
  },
  {
   "cell_type": "code",
   "execution_count": 7,
   "id": "8cbf8ef0-c58c-4168-abde-ab682291235c",
   "metadata": {},
   "outputs": [
    {
     "name": "stdout",
     "output_type": "stream",
     "text": [
      " * sqlite:///my_data1.db\n",
      "(sqlite3.OperationalError) table SPACEXTABLE already exists\n",
      "[SQL: create table SPACEXTABLE as select * from SPACEXTBL where Date is not null]\n",
      "(Background on this error at: https://sqlalche.me/e/20/e3q8)\n"
     ]
    }
   ],
   "source": [
    "%sql create table SPACEXTABLE as select * from SPACEXTBL where Date is not null"
   ]
  },
  {
   "cell_type": "markdown",
   "id": "61deaca2-bbe6-4032-a002-1b663b3a3683",
   "metadata": {},
   "source": [
    "### Task 1: Display the names of the unique launch sites  in the space mission"
   ]
  },
  {
   "cell_type": "code",
   "execution_count": 8,
   "id": "e53a9847-548d-46ec-ab48-a8ff3b38b7dd",
   "metadata": {},
   "outputs": [
    {
     "name": "stdout",
     "output_type": "stream",
     "text": [
      "[('CCAFS LC-40',), ('VAFB SLC-4E',), ('KSC LC-39A',), ('CCAFS SLC-40',)]\n"
     ]
    }
   ],
   "source": [
    "# Consulta SQL para obter os nomes únicos dos locais de lançamento\n",
    "query = \"\"\"\n",
    "        SELECT DISTINCT Launch_Site\n",
    "        FROM SPACEXTBL;\n",
    "        \"\"\"\n",
    "\n",
    "# Executar a consulta SQL\n",
    "cur.execute(query)\n",
    "\n",
    "# Obter todos os resultados da consulta\n",
    "query1 = cur.fetchall()\n",
    "\n",
    "# resultados\n",
    "print(query1)"
   ]
  },
  {
   "cell_type": "markdown",
   "id": "ffa3cb55-7340-42e6-8ca2-9a6f864c7532",
   "metadata": {},
   "source": [
    "### Task 2: Display 5 records where launch sites begin with the string 'CCA'"
   ]
  },
  {
   "cell_type": "code",
   "execution_count": 9,
   "id": "0f39bec9-80fd-44df-a3f8-b9650388ea7e",
   "metadata": {},
   "outputs": [
    {
     "name": "stdout",
     "output_type": "stream",
     "text": [
      "[('2010-06-04', '18:45:00', 'F9 v1.0  B0003', 'CCAFS LC-40', 'Dragon Spacecraft Qualification Unit', 0, 'LEO', 'SpaceX', 'Success', 'Failure (parachute)'), ('2010-12-08', '15:43:00', 'F9 v1.0  B0004', 'CCAFS LC-40', 'Dragon demo flight C1, two CubeSats, barrel of Brouere cheese', 0, 'LEO (ISS)', 'NASA (COTS) NRO', 'Success', 'Failure (parachute)'), ('2012-05-22', '7:44:00', 'F9 v1.0  B0005', 'CCAFS LC-40', 'Dragon demo flight C2', 525, 'LEO (ISS)', 'NASA (COTS)', 'Success', 'No attempt'), ('2012-10-08', '0:35:00', 'F9 v1.0  B0006', 'CCAFS LC-40', 'SpaceX CRS-1', 500, 'LEO (ISS)', 'NASA (CRS)', 'Success', 'No attempt'), ('2013-03-01', '15:10:00', 'F9 v1.0  B0007', 'CCAFS LC-40', 'SpaceX CRS-2', 677, 'LEO (ISS)', 'NASA (CRS)', 'Success', 'No attempt')]\n"
     ]
    }
   ],
   "source": [
    "# Consulta SQL para selecionar os registros\n",
    "query = \"\"\"\n",
    "        SELECT *\n",
    "        FROM SPACEXTBL\n",
    "        WHERE Launch_Site LIKE 'CCA%'\n",
    "        LIMIT 5;\n",
    "        \"\"\"\n",
    "\n",
    "# Executar a consulta SQL\n",
    "cur.execute(query)\n",
    "\n",
    "# Obter todos os resultados da consulta\n",
    "query2 = cur.fetchall()\n",
    "\n",
    "# resultados\n",
    "print(query2)"
   ]
  },
  {
   "cell_type": "markdown",
   "id": "72fa8f89-87ec-42f7-bea0-846f177003fc",
   "metadata": {},
   "source": [
    "### Task 3: Display the total payload mass carried by boosters launched by NASA (CRS)"
   ]
  },
  {
   "cell_type": "code",
   "execution_count": 10,
   "id": "decfdb4c-e225-4287-a609-cae7be6780a2",
   "metadata": {},
   "outputs": [
    {
     "name": "stdout",
     "output_type": "stream",
     "text": [
      "Total da massa da carga útil transportada por lançadores da NASA (CRS): 48213 kg\n"
     ]
    }
   ],
   "source": [
    "# Consulta SQL para calcular a massa total da carga útil transportada por lançadores da NASA (CRS)\n",
    "query_task3 = \"\"\"\n",
    "              SELECT SUM(PAYLOAD_MASS__KG_)\n",
    "              FROM SPACEXTBL\n",
    "              WHERE Customer LIKE '%NASA (CRS)%';\n",
    "              \"\"\"\n",
    "\n",
    "# Executar a consulta SQL\n",
    "cur.execute(query_task3)\n",
    "\n",
    "# Obter o resultado da consulta\n",
    "total_payload_mass = cur.fetchone()[0]\n",
    "\n",
    "# Exibir o total da massa da carga útil\n",
    "print(f\"Total da massa da carga útil transportada por lançadores da NASA (CRS): {total_payload_mass} kg\")"
   ]
  },
  {
   "cell_type": "markdown",
   "id": "999b0327-ded5-4090-adeb-e4d2ef946ebc",
   "metadata": {},
   "source": [
    "### Task 4: Display average payload mass carried by booster version F9 v1.1"
   ]
  },
  {
   "cell_type": "code",
   "execution_count": 11,
   "id": "989a0a44-dabf-424a-8a51-c7cee5c17658",
   "metadata": {},
   "outputs": [
    {
     "name": "stdout",
     "output_type": "stream",
     "text": [
      "Média da massa da carga útil transportada pela versão do booster F9 v1.1: 2928.4 kg\n"
     ]
    }
   ],
   "source": [
    "# Consulta SQL para calcular a média da massa da carga útil transportada pela versão do booster F9 v1.1\n",
    "query_task4 = \"\"\"\n",
    "              SELECT AVG(PAYLOAD_MASS__KG_)\n",
    "              FROM SPACEXTBL\n",
    "              WHERE Booster_Version = 'F9 v1.1';\n",
    "              \"\"\"\n",
    "\n",
    "# Executar a consulta SQL\n",
    "cur.execute(query_task4)\n",
    "\n",
    "# Obter o resultado da consulta\n",
    "avg_payload_mass = cur.fetchone()[0]\n",
    "\n",
    "# Exibir a média da massa da carga útil\n",
    "print(f\"Média da massa da carga útil transportada pela versão do booster F9 v1.1: {avg_payload_mass} kg\")"
   ]
  },
  {
   "cell_type": "markdown",
   "id": "3a60fd60-bff2-4036-a9e8-05b19129a9df",
   "metadata": {},
   "source": [
    "### Task 5: List the date when the first succesful landing outcome in ground pad was acheived.\n",
    "\n",
    "_Hint:Use min function_"
   ]
  },
  {
   "cell_type": "code",
   "execution_count": 12,
   "id": "e9c5d5bf-5e83-46d8-88b8-8fdf38632c27",
   "metadata": {},
   "outputs": [
    {
     "name": "stdout",
     "output_type": "stream",
     "text": [
      "Data do primeiro pouso bem-sucedido em ground pad: 2015-12-22\n"
     ]
    }
   ],
   "source": [
    "# Consulta SQL para encontrar a data do primeiro pouso bem-sucedido em ground pad\n",
    "query_task5 = \"\"\"\n",
    "              SELECT MIN(Date)\n",
    "              FROM SPACEXTBL\n",
    "              WHERE Landing_Outcome LIKE '%Success (ground pad)%';\n",
    "              \"\"\"\n",
    "\n",
    "# Executar a consulta SQL\n",
    "cur.execute(query_task5)\n",
    "\n",
    "# Obter o resultado da consulta\n",
    "first_successful_landing_date = cur.fetchone()[0]\n",
    "\n",
    "# Exibir a data do primeiro pouso bem-sucedido em ground pad\n",
    "print(f\"Data do primeiro pouso bem-sucedido em ground pad: {first_successful_landing_date}\")"
   ]
  },
  {
   "cell_type": "markdown",
   "id": "983041e0-a79f-4b8b-98d9-35d51e251ffb",
   "metadata": {},
   "source": [
    "### Task 6: List the names of the boosters which have success in drone ship and have payload mass greater than 4000 but less than 6000"
   ]
  },
  {
   "cell_type": "code",
   "execution_count": 13,
   "id": "55c75ff7-4311-405c-8ce4-4d452706142d",
   "metadata": {},
   "outputs": [
    {
     "name": "stdout",
     "output_type": "stream",
     "text": [
      "Boosters com sucesso no drone ship e payload mass entre 4000 e 6000:\n",
      "F9 FT B1022\n",
      "F9 FT B1026\n",
      "F9 FT  B1021.2\n",
      "F9 FT  B1031.2\n"
     ]
    }
   ],
   "source": [
    "# Consulta SQL para encontrar os nomes dos boosters que tiveram sucesso no drone ship\n",
    "# e têm payload mass entre 4000 e 6000\n",
    "query_task6 = \"\"\"\n",
    "              SELECT Booster_Version\n",
    "              FROM SPACEXTBL\n",
    "              WHERE Landing_Outcome LIKE '%Success (drone ship)%'\n",
    "              AND PAYLOAD_MASS__KG_ > 4000\n",
    "              AND PAYLOAD_MASS__KG_ < 6000;\n",
    "              \"\"\"\n",
    "\n",
    "# Executar a consulta SQL\n",
    "cur.execute(query_task6)\n",
    "\n",
    "# Obter todos os resultados da consulta\n",
    "boosters_with_success = cur.fetchall()\n",
    "\n",
    "# Exibir os nomes dos boosters\n",
    "print(\"Boosters com sucesso no drone ship e payload mass entre 4000 e 6000:\")\n",
    "for booster in boosters_with_success:\n",
    "    print(booster[0])"
   ]
  },
  {
   "cell_type": "markdown",
   "id": "273994da-e525-4cd3-88b0-2228679550e9",
   "metadata": {},
   "source": [
    "### Task 7: List the total number of successful and failure mission outcomes"
   ]
  },
  {
   "cell_type": "code",
   "execution_count": 14,
   "id": "3fcd11d3-b0c9-4a37-9b83-6db38fa2d4b9",
   "metadata": {},
   "outputs": [
    {
     "name": "stdout",
     "output_type": "stream",
     "text": [
      "Total de missões bem-sucedidas: 100\n",
      "Total de missões com falha: 1\n"
     ]
    }
   ],
   "source": [
    "# Consulta SQL para contar o número de missões bem-sucedidas\n",
    "query_successful = \"\"\"\n",
    "                    SELECT COUNT(*)\n",
    "                    FROM SPACEXTBL\n",
    "                    WHERE Mission_Outcome LIKE '%Success%';\n",
    "                    \"\"\"\n",
    "\n",
    "# Executar a consulta SQL para missões bem-sucedidas\n",
    "cur.execute(query_successful)\n",
    "successful_count = cur.fetchone()[0]  # Obter o resultado e pegar o valor do contador\n",
    "\n",
    "# Consulta SQL para contar o número de missões com falha\n",
    "query_failure = \"\"\"\n",
    "                 SELECT COUNT(*)\n",
    "                 FROM SPACEXTBL\n",
    "                 WHERE Mission_Outcome NOT LIKE '%Success%';\n",
    "                 \"\"\"\n",
    "\n",
    "# Executar a consulta SQL para missões com falha\n",
    "cur.execute(query_failure)\n",
    "failure_count = cur.fetchone()[0]  # Obter o resultado e pegar o valor do contador\n",
    "\n",
    "# Exibir os resultados\n",
    "print(f\"Total de missões bem-sucedidas: {successful_count}\")\n",
    "print(f\"Total de missões com falha: {failure_count}\")"
   ]
  },
  {
   "cell_type": "markdown",
   "id": "cf1a4884-fdd5-494f-8887-2cb054dd1f0a",
   "metadata": {},
   "source": [
    "### Task 8: List the names of the booster_versions which have carried the maximum payload mass. Use a subquery"
   ]
  },
  {
   "cell_type": "code",
   "execution_count": 15,
   "id": "7ac10151-c931-40e2-b68d-e3db5cf6c959",
   "metadata": {},
   "outputs": [
    {
     "name": "stdout",
     "output_type": "stream",
     "text": [
      "Booster Versions que carregaram o máximo de Payload Mass (15600 kg):\n",
      "F9 B5 B1048.4\n",
      "F9 B5 B1049.4\n",
      "F9 B5 B1051.3\n",
      "F9 B5 B1056.4\n",
      "F9 B5 B1048.5\n",
      "F9 B5 B1051.4\n",
      "F9 B5 B1049.5\n",
      "F9 B5 B1060.2 \n",
      "F9 B5 B1058.3 \n",
      "F9 B5 B1051.6\n",
      "F9 B5 B1060.3\n",
      "F9 B5 B1049.7 \n"
     ]
    }
   ],
   "source": [
    "# Consulta SQL para obter o máximo de Payload Mass\n",
    "query_max_payload = \"\"\"\n",
    "                    SELECT MAX(PAYLOAD_MASS__KG_) AS max_payload\n",
    "                    FROM SPACEXTBL;\n",
    "                    \"\"\"\n",
    "\n",
    "# Executar a consulta para obter o máximo de Payload Mass\n",
    "cur.execute(query_max_payload)\n",
    "max_payload = cur.fetchone()[0]  # Obter o valor máximo de Payload Mass\n",
    "\n",
    "# Consulta SQL com subconsulta para obter as booster_versions com o máximo de Payload Mass\n",
    "query_booster_versions = f\"\"\"\n",
    "                          SELECT Booster_Version\n",
    "                          FROM SPACEXTBL\n",
    "                          WHERE PAYLOAD_MASS__KG_ = (\n",
    "                              SELECT MAX(PAYLOAD_MASS__KG_)\n",
    "                              FROM SPACEXTBL\n",
    "                          );\n",
    "                          \"\"\"\n",
    "\n",
    "# Executar a consulta para obter as booster_versions com o máximo de Payload Mass\n",
    "cur.execute(query_booster_versions)\n",
    "booster_versions = cur.fetchall()\n",
    "\n",
    "# Exibir os resultados\n",
    "print(f\"Booster Versions que carregaram o máximo de Payload Mass ({max_payload} kg):\")\n",
    "for version in booster_versions:\n",
    "    print(version[0])"
   ]
  },
  {
   "cell_type": "markdown",
   "id": "47f612c7-04c9-4df1-b185-6a8c882edf72",
   "metadata": {},
   "source": [
    "### Task 9: List the records which will display the month names, failure landing_outcomes in drone ship ,booster versions, launch_site for the months in year 2015.\n",
    "\n",
    "**Note: SQLLite does not support monthnames. So you need to use  substr(Date, 6,2) as month to get the months and substr(Date,0,5)='2015' for year.**"
   ]
  },
  {
   "cell_type": "code",
   "execution_count": 16,
   "id": "1979a9da-236c-4400-92b6-04a422f2b9e6",
   "metadata": {},
   "outputs": [
    {
     "name": "stdout",
     "output_type": "stream",
     "text": [
      "Registros para os meses do ano de 2015 com falhas de pouso no drone ship:\n",
      "Month: 01, Landing Outcome: Failure (drone ship), Booster Version: F9 v1.1 B1012, Launch Site: CCAFS LC-40\n",
      "Month: 04, Landing Outcome: Failure (drone ship), Booster Version: F9 v1.1 B1015, Launch Site: CCAFS LC-40\n"
     ]
    }
   ],
   "source": [
    "# Consulta SQL para listar os registros\n",
    "query_records = \"\"\"\n",
    "                SELECT substr(Date, 6, 2) AS month,\n",
    "                       \"Landing_Outcome\",\n",
    "                       \"Booster_Version\",\n",
    "                       \"Launch_Site\"\n",
    "                FROM SPACEXTBL\n",
    "                WHERE substr(Date, 0, 5) = '2015'\n",
    "                      AND \"Landing_Outcome\" LIKE '%Failure (drone ship)%'\n",
    "                ORDER BY month;\n",
    "                \"\"\"\n",
    "\n",
    "# Executar a consulta para obter os registros\n",
    "cur.execute(query_records)\n",
    "records = cur.fetchall()\n",
    "\n",
    "# Exibir os resultados\n",
    "print(\"Registros para os meses do ano de 2015 com falhas de pouso no drone ship:\")\n",
    "for record in records:\n",
    "    print(f\"Month: {record[0]}, Landing Outcome: {record[1]}, Booster Version: {record[2]}, Launch Site: {record[3]}\")"
   ]
  },
  {
   "cell_type": "markdown",
   "id": "0bca0f5d-073b-4adb-a891-b1e73d8f17aa",
   "metadata": {},
   "source": [
    "### Task 10: Rank the count of landing outcomes (such as Failure (drone ship) or Success (ground pad)) between the date 2010-06-04 and 2017-03-20, in descending order."
   ]
  },
  {
   "cell_type": "code",
   "execution_count": 17,
   "id": "6fac1d8e-fc85-42f5-95cf-773cab8ad21b",
   "metadata": {},
   "outputs": [
    {
     "name": "stdout",
     "output_type": "stream",
     "text": [
      "Ranking de Landing Outcomes entre 2010-06-04 e 2017-03-20:\n",
      "1. Outcome: No attempt, Count: 10\n",
      "2. Outcome: Success (drone ship), Count: 5\n",
      "3. Outcome: Failure (drone ship), Count: 5\n",
      "4. Outcome: Success (ground pad), Count: 3\n",
      "5. Outcome: Controlled (ocean), Count: 3\n",
      "6. Outcome: Uncontrolled (ocean), Count: 2\n",
      "7. Outcome: Failure (parachute), Count: 2\n",
      "8. Outcome: Precluded (drone ship), Count: 1\n"
     ]
    }
   ],
   "source": [
    "# Consulta SQL para contar e classificar os outcomes de pouso\n",
    "query_rank_outcomes = \"\"\"\n",
    "                      SELECT \"Landing_Outcome\",\n",
    "                             COUNT(\"Landing_Outcome\") AS outcome_count\n",
    "                      FROM SPACEXTBL\n",
    "                      WHERE Date BETWEEN '2010-06-04' AND '2017-03-20'\n",
    "                      GROUP BY \"Landing_Outcome\"\n",
    "                      ORDER BY outcome_count DESC;\n",
    "                      \"\"\"\n",
    "\n",
    "# Executar a consulta para obter o ranking dos outcomes de pouso\n",
    "cur.execute(query_rank_outcomes)\n",
    "ranked_outcomes = cur.fetchall()\n",
    "\n",
    "# Exibir os resultados\n",
    "print(\"Ranking de Landing Outcomes entre 2010-06-04 e 2017-03-20:\")\n",
    "for rank, outcome in enumerate(ranked_outcomes, start=1):\n",
    "    print(f\"{rank}. Outcome: {outcome[0]}, Count: {outcome[1]}\")"
   ]
  }
 ],
 "metadata": {
  "kernelspec": {
   "display_name": "Python 3 (ipykernel)",
   "language": "python",
   "name": "python3"
  },
  "language_info": {
   "codemirror_mode": {
    "name": "ipython",
    "version": 3
   },
   "file_extension": ".py",
   "mimetype": "text/x-python",
   "name": "python",
   "nbconvert_exporter": "python",
   "pygments_lexer": "ipython3",
   "version": "3.11.7"
  }
 },
 "nbformat": 4,
 "nbformat_minor": 5
}
